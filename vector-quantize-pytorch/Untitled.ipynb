{
 "cells": [
  {
   "cell_type": "code",
   "execution_count": 3,
   "id": "982f77c2-001d-4716-ba79-e1c472115449",
   "metadata": {
    "tags": []
   },
   "outputs": [],
   "source": [
    "import torch\n",
    "from vector_quantize_pytorch import VectorQuantize\n",
    "\n",
    "vq = VectorQuantize(\n",
    "    dim = 256,\n",
    "    codebook_size = 512,     # codebook size\n",
    "    decay = 0.8,             # the exponential moving average decay, lower means the dictionary will change faster\n",
    "    commitment_weight = 1.   # the weight on the commitment loss\n",
    ")\n",
    "\n",
    "x = torch.randn(1, 1024, 256)\n",
    "quantized, indices, commit_loss = vq(x) # (1, 1024, 256), (1, 1024), (1)\n"
   ]
  },
  {
   "cell_type": "code",
   "execution_count": 4,
   "id": "2f10389b-e9e1-4d81-bf70-a2885361bca2",
   "metadata": {},
   "outputs": [
    {
     "data": {
      "text/plain": [
       "tensor([[[ 1.2523e-03, -4.8861e-03,  5.9329e-03,  ..., -1.0953e-03,\n",
       "          -3.0312e-03,  7.9656e-04],\n",
       "         [-6.5917e-04, -3.1457e-03,  3.9244e-04,  ..., -5.0068e-06,\n",
       "          -5.0153e-03,  2.2587e-03],\n",
       "         [-4.4217e-03,  5.0664e-04, -1.3310e-03,  ..., -1.1871e-03,\n",
       "          -6.5260e-03,  5.0529e-03],\n",
       "         ...,\n",
       "         [ 1.1912e-03,  3.4569e-03, -1.3224e-03,  ..., -3.5584e-04,\n",
       "           2.7813e-03,  2.4991e-03],\n",
       "         [-3.7375e-03, -5.3416e-03, -3.4786e-03,  ..., -5.7312e-03,\n",
       "           6.1405e-03, -3.6194e-03],\n",
       "         [-5.0863e-03,  7.9131e-04, -6.1414e-03,  ..., -1.5768e-04,\n",
       "          -1.4288e-03,  3.9589e-03]]])"
      ]
     },
     "execution_count": 4,
     "metadata": {},
     "output_type": "execute_result"
    }
   ],
   "source": [
    "quantized"
   ]
  },
  {
   "cell_type": "code",
   "execution_count": 6,
   "id": "e2778e6e-4e65-4bd7-b89b-f30131f1e646",
   "metadata": {
    "tags": []
   },
   "outputs": [
    {
     "ename": "SyntaxError",
     "evalue": "invalid syntax (1906650416.py, line 2)",
     "output_type": "error",
     "traceback": [
      "\u001b[0;36m  Cell \u001b[0;32mIn[6], line 2\u001b[0;36m\u001b[0m\n\u001b[0;31m    from pytorch-vector-quantization.vector_quantize import VectorQuantizer\u001b[0m\n\u001b[0m                ^\u001b[0m\n\u001b[0;31mSyntaxError\u001b[0m\u001b[0;31m:\u001b[0m invalid syntax\n"
     ]
    }
   ],
   "source": [
    "import torch\n",
    "from pytorch-vector-quantization.vector_quantize import VectorQuantizer\n",
    "\n",
    "vq = VectorQuantizer(\n",
    "    n_e = 1024,          # codebook vocalbulary size\n",
    "    e_dim = 256,         # codebook vocalbulary dimension\n",
    "    beta = 1.0,          # the weight on the commitment loss\n",
    ")\n",
    "\n",
    "x = torch.randn(1, 256, 16, 16)          # size of NCHW\n",
    "quantized, commit_loss, indices = vq(x)          # shape of (1, 256, 16, 16), (1), (1, 16, 16)\n"
   ]
  },
  {
   "cell_type": "code",
   "execution_count": null,
   "id": "6935d2aa-0d8e-453b-b267-b1c01fff7b3c",
   "metadata": {},
   "outputs": [],
   "source": []
  }
 ],
 "metadata": {
  "kernelspec": {
   "display_name": "py312",
   "language": "python",
   "name": "py312"
  },
  "language_info": {
   "codemirror_mode": {
    "name": "ipython",
    "version": 3
   },
   "file_extension": ".py",
   "mimetype": "text/x-python",
   "name": "python",
   "nbconvert_exporter": "python",
   "pygments_lexer": "ipython3",
   "version": "3.12.4"
  }
 },
 "nbformat": 4,
 "nbformat_minor": 5
}
