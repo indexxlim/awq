{
 "cells": [
  {
   "cell_type": "code",
   "execution_count": 1,
   "id": "982f77c2-001d-4716-ba79-e1c472115449",
   "metadata": {
    "tags": []
   },
   "outputs": [],
   "source": [
    "import torch\n",
    "from vector_quantize_pytorch import VectorQuantize\n",
    "\n",
    "vq = VectorQuantize(\n",
    "    dim = 256,\n",
    "    codebook_size = 512,     # codebook size\n",
    "    decay = 0.8,             # the exponential moving average decay, lower means the dictionary will change faster\n",
    "    commitment_weight = 1.   # the weight on the commitment loss\n",
    ")\n",
    "\n",
    "x = torch.randn(1, 1024, 256)\n",
    "quantized, indices, commit_loss = vq(x) # (1, 1024, 256), (1, 1024), (1)\n"
   ]
  },
  {
   "cell_type": "code",
   "execution_count": 2,
   "id": "2f10389b-e9e1-4d81-bf70-a2885361bca2",
   "metadata": {},
   "outputs": [
    {
     "data": {
      "text/plain": [
       "tensor([[[ 0.0020,  0.0010,  0.0061,  ..., -0.0022,  0.0021,  0.0023],\n",
       "         [-0.0002,  0.0064,  0.0057,  ...,  0.0047, -0.0050, -0.0056],\n",
       "         [ 0.0005,  0.0048, -0.0008,  ..., -0.0040, -0.0048,  0.0003],\n",
       "         ...,\n",
       "         [ 0.0009,  0.0066, -0.0045,  ...,  0.0046,  0.0054,  0.0006],\n",
       "         [-0.0027,  0.0065,  0.0059,  ..., -0.0061,  0.0021, -0.0054],\n",
       "         [-0.0009,  0.0053,  0.0017,  ...,  0.0007, -0.0049,  0.0038]]])"
      ]
     },
     "execution_count": 2,
     "metadata": {},
     "output_type": "execute_result"
    }
   ],
   "source": [
    "quantized"
   ]
  },
  {
   "cell_type": "code",
   "execution_count": null,
   "id": "e2778e6e-4e65-4bd7-b89b-f30131f1e646",
   "metadata": {},
   "outputs": [],
   "source": []
  }
 ],
 "metadata": {
  "kernelspec": {
   "display_name": "py312",
   "language": "python",
   "name": "py312"
  },
  "language_info": {
   "codemirror_mode": {
    "name": "ipython",
    "version": 3
   },
   "file_extension": ".py",
   "mimetype": "text/x-python",
   "name": "python",
   "nbconvert_exporter": "python",
   "pygments_lexer": "ipython3",
   "version": "3.12.4"
  }
 },
 "nbformat": 4,
 "nbformat_minor": 5
}
